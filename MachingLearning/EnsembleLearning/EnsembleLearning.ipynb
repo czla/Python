{
 "cells": [
  {
   "cell_type": "markdown",
   "metadata": {},
   "source": [
    "## 集成学习"
   ]
  },
  {
   "cell_type": "markdown",
   "metadata": {},
   "source": [
    "#### 如何根据数据和需求选择合适的算法？\n",
    "\n",
    "![image](https://mmbiz.qpic.cn/mmbiz_png/1ZB7qssGybtcTCvJxMandNIjIESNRo690GPBrQfnhFPsRevhN50psHLfIMm8EC2Ntb07WeHuStwh1oE7IYV0eg/640?wx_fmt=png&tp=webp&wxfrom=5&wx_lazy=1&wx_co=1)"
   ]
  },
  {
   "cell_type": "code",
   "execution_count": 2,
   "metadata": {},
   "outputs": [
    {
     "data": {
      "image/png": "[encoded data removed]",
      "text/plain": [
       "<Figure size 432x288 with 1 Axes>"
      ]
     },
     "metadata": {
      "needs_background": "light"
     },
     "output_type": "display_data"
    }
   ],
   "source": [
    "# 引入一些必要的包和数据，并将数据可视化\n",
    "import matplotlib.pyplot as plt\n",
    "from sklearn.datasets import make_circles\n",
    "from sklearn.model_selection import train_test_split\n",
    "\n",
    "# 引入数据，设置标准差为0.15，设置随机种子\n",
    "X, y = make_circles(n_samples=300, noise=0.15, factor=0.5, random_state=233)\n",
    "\n",
    "# 显示数据\n",
    "plt.scatter(X[y==0, 0], X[y==0, 1])\n",
    "plt.scatter(X[y==1, 0], X[y==1, 1])\n",
    "plt.show()"
   ]
  },
  {
   "cell_type": "markdown",
   "metadata": {},
   "source": [
    "#### 分离训练机和测试集，实例化一个KNN模型，训练并输出精度"
   ]
  },
  {
   "cell_type": "code",
   "execution_count": 4,
   "metadata": {},
   "outputs": [
    {
     "name": "stdout",
     "output_type": "stream",
     "text": [
      "KNN Accuracy:  0.92\n"
     ]
    }
   ],
   "source": [
    "X_train, X_test, y_train, y_test = train_test_split(X, y, random_state=233)\n",
    "\n",
    "from sklearn.neighbors import KNeighborsClassifier\n",
    "\n",
    "knn_clf = KNeighborsClassifier()\n",
    "knn_clf.fit(X_train, y_train)\n",
    "print('KNN Accuracy: ', knn_clf.score(X_test, y_test))"
   ]
  },
  {
   "cell_type": "markdown",
   "metadata": {},
   "source": [
    "#### 实例化一个逻辑回归模型，训练并输出精度"
   ]
  },
  {
   "cell_type": "code",
   "execution_count": 5,
   "metadata": {},
   "outputs": [
    {
     "name": "stdout",
     "output_type": "stream",
     "text": [
      "LogisticRegression Accuracy:  0.3333333333333333\n"
     ]
    }
   ],
   "source": [
    "from sklearn.linear_model import LogisticRegression\n",
    "\n",
    "log_clf = LogisticRegression()\n",
    "log_clf.fit(X_train, y_train)\n",
    "print('LogisticRegression Accuracy: ', log_clf.score(X_test, y_test))"
   ]
  },
  {
   "cell_type": "markdown",
   "metadata": {},
   "source": [
    "#### 实例化一个支持向量机模型，训练并输出精度"
   ]
  },
  {
   "cell_type": "code",
   "execution_count": 6,
   "metadata": {},
   "outputs": [
    {
     "name": "stdout",
     "output_type": "stream",
     "text": [
      "SVM Accuracy:  0.96\n"
     ]
    }
   ],
   "source": [
    "from sklearn.svm import SVC\n",
    "\n",
    "svm_clf = SVC()\n",
    "svm_clf.fit(X_train, y_train)\n",
    "print('SVM Accuracy: ', svm_clf.score(X_test, y_test))"
   ]
  },
  {
   "cell_type": "markdown",
   "metadata": {},
   "source": [
    "#### 实例化一个决策树模型，训练并输出精度"
   ]
  },
  {
   "cell_type": "code",
   "execution_count": 7,
   "metadata": {},
   "outputs": [
    {
     "name": "stdout",
     "output_type": "stream",
     "text": [
      "DecisionTree Accuracy:  0.92\n"
     ]
    }
   ],
   "source": [
    "from sklearn.tree import DecisionTreeClassifier\n",
    "\n",
    "dt_clf = DecisionTreeClassifier()\n",
    "dt_clf.fit(X_train, y_train)\n",
    "print('DecisionTree Accuracy: ', dt_clf.score(X_test, y_test))"
   ]
  },
  {
   "cell_type": "markdown",
   "metadata": {},
   "source": [
    "#### 传入上述的各个机器学习模型，实例化一个VotingClassifier模型，训练并输出精度"
   ]
  },
  {
   "cell_type": "code",
   "execution_count": 8,
   "metadata": {},
   "outputs": [
    {
     "name": "stdout",
     "output_type": "stream",
     "text": [
      "VotingClassifier Accuracy:  0.92\n"
     ]
    },
    {
     "name": "stderr",
     "output_type": "stream",
     "text": [
      "d:\\python\\lib\\site-packages\\sklearn\\preprocessing\\label.py:151: DeprecationWarning: The truth value of an empty array is ambiguous. Returning False, but in future this will result in an error. Use `array.size > 0` to check that an array is not empty.\n",
      "  if diff:\n"
     ]
    }
   ],
   "source": [
    "from sklearn.ensemble import VotingClassifier\n",
    "\n",
    "voting_clf = VotingClassifier(estimators=[\n",
    "    ('knn', KNeighborsClassifier()),\n",
    "    ('ligistic', LogisticRegression()),\n",
    "    ('SVM', SVC()),\n",
    "    ('decision tree', DecisionTreeClassifier())\n",
    "],\n",
    "                             voting='hard')\n",
    "\n",
    "voting_clf.fit(X_train, y_train)\n",
    "print('VotingClassifier Accuracy: ', voting_clf.score(X_test, y_test))"
   ]
  },
  {
   "cell_type": "markdown",
   "metadata": {},
   "source": [
    "#### 集成后精度反而下降，原因是**voting='hard'**严格遵循少数服从多数原则"
   ]
  },
  {
   "cell_type": "markdown",
   "metadata": {},
   "source": [
    "#### 随机森林\n",
    "超参数与决策树类似，但有两个例外：\n",
    "\n",
    "参数 | 说明\n",
    ":-: | :-\n",
    "**bootstrap** | 取'true'或'false'，表示在划分训练数据集时是否采用放回取样\n",
    "**oob_score** | 采用放回取样时，构建完整的随机森林会有约33%的数据没有被取到过，所以当oob_score取'true'时，不再将数据及划分为训练集和测试集，直接取未使用过的数据来验证模型的准确率"
   ]
  },
  {
   "cell_type": "code",
   "execution_count": 10,
   "metadata": {},
   "outputs": [
    {
     "name": "stdout",
     "output_type": "stream",
     "text": [
      "Random Forest Accuracy:  0.92\n"
     ]
    }
   ],
   "source": [
    "from sklearn.ensemble import RandomForestClassifier\n",
    "\n",
    "rf_clf = RandomForestClassifier(\n",
    "            n_estimators=500,  # 确定树的规模，500棵\n",
    "            max_depth=6,       # 确定每棵树最大深度\n",
    "            bootstrap=True,    # 有放回取样\n",
    "            oob_score=True     # 使用out of bag的数据测试模型\n",
    ")\n",
    "\n",
    "# rf_clf.fit(X_train, y_train)，直接使用全部数据\n",
    "rf_clf.fit(X, y)\n",
    "print('Random Forest Accuracy: ', rf_clf.oob_score_)"
   ]
  },
  {
   "cell_type": "markdown",
   "metadata": {},
   "source": [
    "#### Extremely Randomized Trees(ERT)\n",
    "**对于特征集X，随机森林只是在行上随机，ERT在行和列上都随机**\n",
    "\n",
    "分类器 | 说明\n",
    ":-: | :-\n",
    "随机森林 | 在构建数据子集时对**样本的选择**进行随机抽取\n",
    "ERT | 对**样本的选择**和**特征**进行随机抽取，即**采用部分特征**"
   ]
  },
  {
   "cell_type": "code",
   "execution_count": 12,
   "metadata": {},
   "outputs": [
    {
     "name": "stdout",
     "output_type": "stream",
     "text": [
      "Extremely Randomized Trees Accuracy:  0.9433333333333334\n"
     ]
    }
   ],
   "source": [
    "from sklearn.ensemble import ExtraTreesClassifier\n",
    "\n",
    "et_clf = ExtraTreesClassifier(\n",
    "    n_estimators=500, max_depth=5, bootstrap=True, oob_score=True)\n",
    "\n",
    "et_clf.fit(X, y)\n",
    "print('Extremely Randomized Trees Accuracy: ', et_clf.oob_score_)"
   ]
  },
  {
   "cell_type": "markdown",
   "metadata": {},
   "source": [
    "#### Boosting和Bagging\n",
    "方法 | 说明\n",
    ":-: | :-\n",
    "**Boosting** | 从初始训练集训练出一个基学习器，根据及学习器的表现队训练样本分布进行调整，更关注错分类的样本,然后基于调整后的样本分布训练下一个基学习器，如此重复直至学到T个基学习器，最后将T个基学习器进行加权结合，代表方法**AdaBoost**\n",
    "**Bagging** | 基于bootstrap采样，采样出T个含m个训练样本的采样集，基于每个采样集训练一个基学习器，再将基学习器进行结合(分类任务采用投票法，回归任务采用平均法，同样票数则随机选取或考察置信度)\n",
    "\n",
    "**AdaBoost**: 提高被前一轮弱分类器错误分类样本的权值，降低被正确分类样本的权值；采用**'加权多数表决'** 对弱分类器组合，加大分类误差率小的弱分类器的权值，减小分类误差率大的弱分类器的权值"
   ]
  },
  {
   "cell_type": "code",
   "execution_count": 13,
   "metadata": {},
   "outputs": [
    {
     "name": "stdout",
     "output_type": "stream",
     "text": [
      "AdaBoost Accuracy:  0.8933333333333333\n"
     ]
    }
   ],
   "source": [
    "from sklearn.ensemble import AdaBoostClassifier\n",
    "\n",
    "adab_clf = AdaBoostClassifier(\n",
    "                DecisionTreeClassifier(),\n",
    "                n_estimators=500,\n",
    "                learning_rate=0.3)\n",
    "\n",
    "adab_clf.fit(X_train, y_train)\n",
    "print('AdaBoost Accuracy: ', adab_clf.score(X_test, y_test))"
   ]
  },
  {
   "cell_type": "code",
   "execution_count": null,
   "metadata": {},
   "outputs": [],
   "source": []
  }
 ],
 "metadata": {
  "kernelspec": {
   "display_name": "Python 3",
   "language": "python",
   "name": "python3"
  },
  "language_info": {
   "codemirror_mode": {
    "name": "ipython",
    "version": 3
   },
   "file_extension": ".py",
   "mimetype": "text/x-python",
   "name": "python",
   "nbconvert_exporter": "python",
   "pygments_lexer": "ipython3",
   "version": "3.6.5"
  },
  "toc": {
   "base_numbering": 1,
   "nav_menu": {},
   "number_sections": false,
   "sideBar": true,
   "skip_h1_title": false,
   "title_cell": "Table of Contents",
   "title_sidebar": "Contents",
   "toc_cell": false,
   "toc_position": {},
   "toc_section_display": true,
   "toc_window_display": false
  },
  "varInspector": {
   "cols": {
    "lenName": 16,
    "lenType": 16,
    "lenVar": 40
   },
   "kernels_config": {
    "python": {
     "delete_cmd_postfix": "",
     "delete_cmd_prefix": "del ",
     "library": "var_list.py",
     "varRefreshCmd": "print(var_dic_list())"
    },
    "r": {
     "delete_cmd_postfix": ") ",
     "delete_cmd_prefix": "rm(",
     "library": "var_list.r",
     "varRefreshCmd": "cat(var_dic_list()) "
    }
   },
   "types_to_exclude": [
    "module",
    "function",
    "builtin_function_or_method",
    "instance",
    "_Feature"
   ],
   "window_display": false
  }
 },
 "nbformat": 4,
 "nbformat_minor": 2
}
