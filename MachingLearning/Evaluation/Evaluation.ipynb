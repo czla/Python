{
 "cells": [
  {
   "cell_type": "markdown",
   "metadata": {},
   "source": [
    "## 模型评价\n",
    "(1) Precision/Recall  \n",
    "(2) Accuracy  \n",
    "(3) F1 score  \n",
    "(4) ROC曲线（Receiver Operating Characteristic, 受试者工作特性曲线）  \n",
    "(5) ROC曲线之下的面积，即AUC（Area under curve）"
   ]
  },
  {
   "cell_type": "markdown",
   "metadata": {},
   "source": [
    "#### 引入必要的包 -> 调用数据集 -> 使数据集中不同类别数量偏斜 -> 分离训练、测试数据集 -> 实例化一个逻辑回归模型 -> 预测并求出模型准确率"
   ]
  },
  {
   "cell_type": "code",
   "execution_count": 6,
   "metadata": {},
   "outputs": [
    {
     "name": "stdout",
     "output_type": "stream",
     "text": [
      "Training cost:\t0.012992 seconds\n",
      "Predict cost:\t0.000999 seconds\n",
      "Accuracy: \t0.9844\n"
     ]
    }
   ],
   "source": [
    "# 引入必要的包\n",
    "import numpy as np\n",
    "import time\n",
    "from sklearn.datasets import load_digits\n",
    "from sklearn.model_selection import train_test_split\n",
    "from sklearn.linear_model import LogisticRegression\n",
    "\n",
    "# 使用库内自带的手写数字集\n",
    "digits = load_digits()\n",
    "X = digits.data\n",
    "y = digits.target.copy()\n",
    "\n",
    "# 故意致使数据集类别的不平衡\n",
    "y[digits.target == 5] = 1\n",
    "y[digits.target != 5] = 0\n",
    "\n",
    "# 分离训练和测试数据集\n",
    "X_train, X_test, y_train, y_test = train_test_split(X, y, random_state = 233)\n",
    "# 实例化一个逻辑回归并训练\n",
    "t0 = time.time()\n",
    "logistic_clf = LogisticRegression()\n",
    "logistic_clf.fit(X_train, y_train)\n",
    "t1 = time.time()\n",
    "print('Training cost:\\t%f seconds'%(t1 - t0))\n",
    "\n",
    "accuracy = logistic_clf.score(X_test, y_test)\n",
    "y_predict = logistic_clf.predict(X_test)\n",
    "t2 = time.time()\n",
    "print('Predict cost:\\t%f seconds'%(t2 - t1))\n",
    "print('Accuracy: \\t%.4f'% accuracy)"
   ]
  },
  {
   "cell_type": "markdown",
   "metadata": {},
   "source": [
    "#### 计算上述评价标准"
   ]
  },
  {
   "cell_type": "markdown",
   "metadata": {},
   "source": [
    "#### （1）手动版本"
   ]
  },
  {
   "cell_type": "code",
   "execution_count": 7,
   "metadata": {},
   "outputs": [],
   "source": [
    "# def TN(y_true, y_predict):\n",
    "#     assert len(y_true) == len(y_predict),\\\n",
    "#     'the vectors y_true and y_predict must have the same length!'\n",
    "#     return sum((y_true == 0) & (y_predict == 0))\n",
    "\n",
    "# def TP(y_true, y_predict):\n",
    "#     assert len(y_true) == len(y_predict),\\\n",
    "#     'the vectors y_true and y_predict must have the same length!'\n",
    "#     return sum((y_true == 1) & (y_predict == 1))\n",
    "\n",
    "# def FN(y_true, y_predict):\n",
    "#     assert len(y_true) == len(y_predict),\\\n",
    "#     'the vectors y_true and y_predict must have the same length!'\n",
    "#     return sum((y_true == 1) & (y_predict == 0))\n",
    "\n",
    "# def FP(y_true, y_predict):\n",
    "#     assert len(y_true) == len(y_predict),\\\n",
    "#     'the vectors y_true and y_predict must have the same length!'\n",
    "#     return sum((y_true == 0) & (y_predict == 1))\n",
    "\n",
    "# # 计算混淆矩阵\n",
    "# def confusion_matrix(y_true, y_predict):\n",
    "#     assert len(y_true) == len(y_predict),\\\n",
    "#     'the vectors y_true and y_predict must have the same length!'\n",
    "#     return np.array([\n",
    "#         [TN(y_true, y_predict), FP(y_true, y_predict)],\n",
    "#         [FN(y_true, y_predict), TP(y_true, y_predict)]\n",
    "#     ])\n",
    "\n",
    "# # 计算查准率Precision\n",
    "# def precision_score(y_true, y_predict):\n",
    "#     assert len(y_true) == len(y_predict),\\\n",
    "#     'the vectors y_true and y_predict must have the same length!'\n",
    "#     TP = TP(y_true, y_predict)\n",
    "#     FP = FP(y_true, y_predict)\n",
    "#     try:\n",
    "#         return TP / (FP + TP)\n",
    "#     except:\n",
    "#         return 0\n",
    "\n",
    "# # 计算召回率Recall\n",
    "# def recall_score(y_true, y_predict):\n",
    "#     assert len(y_true) == len(y_predict),\\\n",
    "#     'the vectors y_true and y_predict must have the same length!'\n",
    "#     TP = TP(y_true, y_predict)\n",
    "#     FN = FN(y_true, y_predict)\n",
    "#     try:\n",
    "#         return TP / (FN + TP)\n",
    "#     except:\n",
    "#         return 0\n",
    "\n",
    "# # 计算F1 score\n",
    "# def f1_score(y_true, y_predict):\n",
    "#     p = precision_score(y_true, y_predict)\n",
    "#     r = recall(y_true, y_predict)\n",
    "#     return 2*p*r / (p + r)"
   ]
  },
  {
   "cell_type": "markdown",
   "metadata": {},
   "source": [
    "#### （2）scikit-learn版本"
   ]
  },
  {
   "cell_type": "code",
   "execution_count": 11,
   "metadata": {},
   "outputs": [
    {
     "name": "stdout",
     "output_type": "stream",
     "text": [
      "混淆矩阵: \n",
      " [[398   2]\n",
      " [  5  45]]\n",
      "Precision:  0.9574468085106383\n",
      "Recall:  0.9\n"
     ]
    }
   ],
   "source": [
    "from sklearn.metrics import confusion_matrix, precision_score\n",
    "from sklearn.metrics import f1_score, recall_score\n",
    "\n",
    "confusion_mat = confusion_matrix(y_test, y_predict)\n",
    "precision = precision_score(y_test, y_predict)\n",
    "recall = recall_score(y_test, y_predict)\n",
    "F1_score = f1_score(y_test, y_predict)\n",
    "\n",
    "print('混淆矩阵: \\n', confusion_mat)\n",
    "print('Precision: ', precision)\n",
    "print('Recall: ', recall)"
   ]
  },
  {
   "cell_type": "markdown",
   "metadata": {},
   "source": [
    "#### 绘制查准率与召回率和阈值取值的关系"
   ]
  },
  {
   "cell_type": "code",
   "execution_count": 14,
   "metadata": {},
   "outputs": [
    {
     "data": {
      "image/png": "[encoded data removed]",
      "text/plain": [
       "<Figure size 432x288 with 1 Axes>"
      ]
     },
     "metadata": {
      "needs_background": "light"
     },
     "output_type": "display_data"
    }
   ],
   "source": [
    "import matplotlib.pyplot as plt\n",
    "from sklearn.metrics import precision_recall_curve\n",
    "%matplotlib inline\n",
    "\n",
    "decision_scores = logistic_clf.decision_function(X_test)\n",
    "precisions, recalls, thresholds = precision_recall_curve(y_test, decision_scores)\n",
    "\n",
    "plt.plot(thresholds, recalls[:-1])\n",
    "plt.plot(thresholds, precisions[:-1])\n",
    "plt.show()"
   ]
  },
  {
   "cell_type": "markdown",
   "metadata": {},
   "source": [
    "#### 绘制PR曲线"
   ]
  },
  {
   "cell_type": "code",
   "execution_count": 15,
   "metadata": {},
   "outputs": [
    {
     "data": {
      "image/png": "[encoded data removed]",
      "text/plain": [
       "<Figure size 432x288 with 1 Axes>"
      ]
     },
     "metadata": {
      "needs_background": "light"
     },
     "output_type": "display_data"
    }
   ],
   "source": [
    "plt.plot(precisions, recalls)\n",
    "plt.show()"
   ]
  },
  {
   "cell_type": "markdown",
   "metadata": {},
   "source": [
    "#### 绘制ROC曲线"
   ]
  },
  {
   "cell_type": "code",
   "execution_count": 16,
   "metadata": {},
   "outputs": [
    {
     "data": {
      "image/png": "[encoded data removed]",
      "text/plain": [
       "<Figure size 432x288 with 1 Axes>"
      ]
     },
     "metadata": {
      "needs_background": "light"
     },
     "output_type": "display_data"
    }
   ],
   "source": [
    "from sklearn.metrics import roc_curve, roc_auc_score\n",
    "\n",
    "fprs, tprs, thresholds = roc_curve(y_test, decision_scores)\n",
    "plt.plot(fprs, tprs)\n",
    "plt.show()"
   ]
  },
  {
   "cell_type": "markdown",
   "metadata": {},
   "source": [
    "#### 计算AUC值"
   ]
  },
  {
   "cell_type": "code",
   "execution_count": 17,
   "metadata": {},
   "outputs": [
    {
     "name": "stdout",
     "output_type": "stream",
     "text": [
      "AUC:  0.99755\n"
     ]
    }
   ],
   "source": [
    "auc = roc_auc_score(y_test, decision_scores)\n",
    "print('AUC: ', auc)"
   ]
  }
 ],
 "metadata": {
  "kernelspec": {
   "display_name": "Python 3",
   "language": "python",
   "name": "python3"
  },
  "language_info": {
   "codemirror_mode": {
    "name": "ipython",
    "version": 3
   },
   "file_extension": ".py",
   "mimetype": "text/x-python",
   "name": "python",
   "nbconvert_exporter": "python",
   "pygments_lexer": "ipython3",
   "version": "3.6.5"
  },
  "toc": {
   "base_numbering": 1,
   "nav_menu": {},
   "number_sections": false,
   "sideBar": true,
   "skip_h1_title": false,
   "title_cell": "Table of Contents",
   "title_sidebar": "Contents",
   "toc_cell": false,
   "toc_position": {},
   "toc_section_display": true,
   "toc_window_display": false
  },
  "varInspector": {
   "cols": {
    "lenName": 16,
    "lenType": 16,
    "lenVar": 40
   },
   "kernels_config": {
    "python": {
     "delete_cmd_postfix": "",
     "delete_cmd_prefix": "del ",
     "library": "var_list.py",
     "varRefreshCmd": "print(var_dic_list())"
    },
    "r": {
     "delete_cmd_postfix": ") ",
     "delete_cmd_prefix": "rm(",
     "library": "var_list.r",
     "varRefreshCmd": "cat(var_dic_list()) "
    }
   },
   "types_to_exclude": [
    "module",
    "function",
    "builtin_function_or_method",
    "instance",
    "_Feature"
   ],
   "window_display": false
  }
 },
 "nbformat": 4,
 "nbformat_minor": 2
}
