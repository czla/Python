{
 "cells": [
  {
   "cell_type": "code",
   "execution_count": 2,
   "metadata": {},
   "outputs": [
    {
     "data": {
      "image/png": "[encoded data removed]",
      "text/plain": [
       "<matplotlib.figure.Figure at 0x1fb31b635c0>"
      ]
     },
     "metadata": {},
     "output_type": "display_data"
    }
   ],
   "source": [
    "# 引入必要的包\n",
    "import numpy as np\n",
    "import matplotlib.pyplot as plt\n",
    "\n",
    "# 手工制造数据集\n",
    "np.random.seed(2333)\n",
    "X = np.random.normal(0, 3, size=(400, 2))\n",
    "y = np.array(X[:, 0]**2 + X[:, 1]**2 < 10.5, dtype=np.int)\n",
    "\n",
    "# 画出两类数据的分布情况\n",
    "plt.scatter(X[y==0, 0], X[y==0, 1])\n",
    "plt.scatter(X[y==1, 0], X[y==1, 1])\n",
    "plt.show()"
   ]
  },
  {
   "cell_type": "code",
   "execution_count": 6,
   "metadata": {},
   "outputs": [
    {
     "name": "stdout",
     "output_type": "stream",
     "text": [
      "Accuracy:  0.47\n"
     ]
    }
   ],
   "source": [
    "# 从scikit-learn中引入必要的机器学习模型\n",
    "from sklearn.neighbors import KNeighborsClassifier\n",
    "from sklearn.model_selection import train_test_split\n",
    "from sklearn.linear_model import LogisticRegression\n",
    "\n",
    "# 将训练集和测试集分离\n",
    "X_train, X_test, y_train, y_test = train_test_split(X, y, random_state=233)\n",
    "\n",
    "# 实例化一个逻辑回归模型，进行训练，并打印模型精度\n",
    "log_reg = LogisticRegression()\n",
    "log_reg.fit(X_train, y_train)\n",
    "print(\"Accuracy: \", log_reg.score(X_test, y_test))"
   ]
  },
  {
   "cell_type": "markdown",
   "metadata": {},
   "source": [
    "# 可调整的超参数：\n",
    "#### penalty: str 类型，可取 ‘l1’ 或者 ‘l2’，默认值为 ‘l2’，用于明确损失函数惩罚项的正则类型；\n",
    "#### tol: float 类型，默认值为 1e-4，表示容差，用于决定是否停止搜索；\n",
    "#### C: float 类型，默认值为1.0，表示正则项的系数，用来决定模型需要正则化的程度；\n",
    "#### solver: str 类型，默认取 'liblinear'，可取{‘newton-cg’, ‘lbfgs’, ‘liblinear’, ‘sag’, ‘saga’} 中任一个，表示在优化过程中所使用的算法；\n",
    "#### max_iter: int 型，默认取100，表示在优化收敛的过程中最大迭代的次数；"
   ]
  },
  {
   "cell_type": "code",
   "execution_count": 7,
   "metadata": {},
   "outputs": [
    {
     "name": "stdout",
     "output_type": "stream",
     "text": [
      "Accuracy:  0.55\n"
     ]
    }
   ],
   "source": [
    "# 实例化一个逻辑回归模型，并传入相应的超参数，接着训练，打印模型准确度\n",
    "log_reg2 = LogisticRegression(C=0.1, penalty='l1')\n",
    "log_reg2.fit(X_train, y_train)\n",
    "print(\"Accuracy: \", log_reg2.score(X_test, y_test))"
   ]
  },
  {
   "cell_type": "markdown",
   "metadata": {},
   "source": [
    "#### 这精度还是不行，稍微分析下数据可知，样本的标签值是与样本的特征有多项式关系，这就很容易想到可以用 scikit-learn 中的 PolynomialFeatures 类对数据进行预处理，这个过程可以用 Pipeline 进行简化处理。"
   ]
  },
  {
   "cell_type": "code",
   "execution_count": 10,
   "metadata": {},
   "outputs": [
    {
     "name": "stdout",
     "output_type": "stream",
     "text": [
      "Accuracy:  0.97\n"
     ]
    }
   ],
   "source": [
    "# 引入必要的包\n",
    "from sklearn.preprocessing import PolynomialFeatures, StandardScaler\n",
    "from sklearn.pipeline import Pipeline\n",
    "\n",
    "# 使用Pipline将数据特征的多项式处理于模型实例化封装在一起为一个函数\n",
    "def LogisticPolyRegression(degree, C=1.0):\n",
    "    return Pipeline([\n",
    "        ('poly', PolynomialFeatures(degree=degree)),\n",
    "        ('std', StandardScaler()),\n",
    "        ('Log_reg', LogisticRegression(C=C))\n",
    "    ])\n",
    "\n",
    "# 实例化一个多项式回归模型，并进行训练，打印模型的精度\n",
    "log_polyreg = LogisticPolyRegression(2)\n",
    "log_polyreg.fit(X_train, y_train)\n",
    "print('Accuracy: ', log_polyreg.score(X_test, y_test))"
   ]
  },
  {
   "cell_type": "markdown",
   "metadata": {},
   "source": [
    "#### 引入KNN行比较，kNN 是 k 近邻算法"
   ]
  },
  {
   "cell_type": "code",
   "execution_count": 11,
   "metadata": {},
   "outputs": [
    {
     "name": "stdout",
     "output_type": "stream",
     "text": [
      "Accuracy:  0.95\n"
     ]
    }
   ],
   "source": [
    "# 实例化一个kNN模型，并进行训练\n",
    "knn_clf = KNeighborsClassifier()\n",
    "knn_clf.fit(X_train, y_train)\n",
    "print('Accuracy: ', knn_clf.score(X_test, y_test))"
   ]
  }
 ],
 "metadata": {
  "kernelspec": {
   "display_name": "Python 3",
   "language": "python",
   "name": "python3"
  },
  "language_info": {
   "codemirror_mode": {
    "name": "ipython",
    "version": 3
   },
   "file_extension": ".py",
   "mimetype": "text/x-python",
   "name": "python",
   "nbconvert_exporter": "python",
   "pygments_lexer": "ipython3",
   "version": "3.6.4"
  }
 },
 "nbformat": 4,
 "nbformat_minor": 2
}
