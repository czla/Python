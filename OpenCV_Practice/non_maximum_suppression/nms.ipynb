{
 "cells": [
  {
   "cell_type": "markdown",
   "metadata": {},
   "source": [
    "## Non-Maximum Suppression for Object Detection"
   ]
  },
  {
   "cell_type": "code",
   "execution_count": 3,
   "metadata": {},
   "outputs": [],
   "source": [
    "# import the necessary packages\n",
    "import numpy as np\n",
    "\n",
    "# Felzenszwalb et al.\n",
    "def non_max_suppression_slow(boxes, overlapThresh):\n",
    "    # if there are no boxes, return an empty list\n",
    "    if len(boxes) == 0:\n",
    "        return []\n",
    "    \n",
    "    # initialize the list of picked indexes\n",
    "    pick = []\n",
    "    \n",
    "    # grab teh coordinates of the bounding boxes\n",
    "    x1 = boxes[:, 0]\n",
    "    y1 = boxes[:, 1]\n",
    "    x2 = boxes[:, 2]\n",
    "    y2 = boxes[:, 3]\n",
    "    \n",
    "    # compute the area of the bounding boxes and sort the bounding\n",
    "    # boxes by the bottom right y-coordinate of the bounding box\n",
    "    area = (x2 - x1 + 1)*(y2 - y1 + 1)\n",
    "    idxs = np.argsort(y2)\n",
    "    \n",
    "    # keep looping while some indexes still remain in the indexes list\n",
    "    while len(idxs) > 0:\n",
    "        # grab the last index in the indexes list, add the index value to \n",
    "        # the list of picked indexes, then initialize the suppression list\n",
    "        # (i.e. indexes that will be deleted) using the last index\n",
    "        last = len(idxs) - 1\n",
    "        i = idxs[last]\n",
    "        pick.append(i)\n",
    "        suppress = [last]  # the list of boxes we want to ignore\n",
    "        \n",
    "        # loop over all indexes in the indexes list\n",
    "        for pos in range(0, last):\n",
    "            # grab the current index\n",
    "            j = idxs[pos]\n",
    "            \n",
    "            # find the largest (x, y) coordinates for the start of the \n",
    "            # bounding box and the smallest (x, y) coordinates for the \n",
    "            # bounding box\n",
    "            xx1 = max(x1[i], x1[j])\n",
    "            yy1 = max(y1[i], y1[j])\n",
    "            xx2 = min(x2[i], x2[j])\n",
    "            yy2 = min(y2[i], y2[j])\n",
    "            \n",
    "            # compute the width and height of the bounding box\n",
    "            w = max(0, xx2 - xx1 + 1)\n",
    "            h = max(0, yy2 - yy1 + 1)\n",
    "            \n",
    "            # compute the ratio of overlap between the computed bounding \n",
    "            # box and the bounding box in the area list\n",
    "            overlap = float(w * h) / area[j]\n",
    "            \n",
    "            # if there is sufficient overlap, suppress the current bounding box\n",
    "            if overlap > overlapThresh:\n",
    "                suppress.append(pos)\n",
    "                \n",
    "        # delete all indexes from the index list that are in the suppression list\n",
    "        idxs = np.delete(idxs, suppress)\n",
    "        \n",
    "    # return only the bounding boxes that were picked\n",
    "    return boxes[pick]\n",
    "        "
   ]
  },
  {
   "cell_type": "code",
   "execution_count": 4,
   "metadata": {},
   "outputs": [
    {
     "name": "stdout",
     "output_type": "stream",
     "text": [
      "[x] 6 initial bounding boxes\n",
      "[x] after applying non-maximum, 1 bounding boxes\n",
      "[x] 3 initial bounding boxes\n",
      "[x] after applying non-maximum, 1 bounding boxes\n",
      "[x] 4 initial bounding boxes\n",
      "[x] after applying non-maximum, 2 bounding boxes\n"
     ]
    }
   ],
   "source": [
    "import cv2\n",
    "\n",
    "# construct a list containing the images that will be examined along with their respective bounding boxes\n",
    "images = [\n",
    "    ('audrey.jpg', np.array([\n",
    "        (12, 4, 140, 212),\n",
    "        (24, 84, 152, 212),\n",
    "        (36, 84, 164, 212),\n",
    "        (12, 96, 140, 224),\n",
    "        (24, 96, 152, 224),\n",
    "        (24, 108, 152, 236)])),\n",
    "    (\"bksomels.jpg\", np.array([\n",
    "        (114, 60, 178, 124),\n",
    "        (120, 60, 184, 124),\n",
    "        (114, 66, 178, 130)])),\n",
    "    (\"gpripe.jpg\", np.array([\n",
    "        (12, 30, 76, 94),\n",
    "        (12, 36, 76, 100),\n",
    "        (72, 36, 200, 164),\n",
    "        (84, 48, 212, 176)]))]\n",
    "\n",
    "# loop over the images\n",
    "for (imagePath, boundingBoxes) in images:\n",
    "    # load the image and clonwe it\n",
    "    print('[x] %d initial bounding boxes' % (len(boundingBoxes)))\n",
    "    image = cv2.imread(imagePath)\n",
    "    orig = image.copy()\n",
    "    \n",
    "    # loop over the bounding boxes for each image and draw them\n",
    "    for (startX, startY, endX, endY) in boundingBoxes:\n",
    "        cv2.rectangle(orig, (startX, startY), (endX, endY), (0, 0, 255), 2)\n",
    " \n",
    "    # perform non-maximum suppression on the bounding boxes\n",
    "    pick = non_max_suppression_slow(boundingBoxes, 0.3)\n",
    "    print(\"[x] after applying non-maximum, %d bounding boxes\" % (len(pick)))\n",
    " \n",
    "    # loop over the picked bounding boxes and draw them\n",
    "    for (startX, startY, endX, endY) in pick:\n",
    "        cv2.rectangle(image, (startX, startY), (endX, endY), (0, 255, 0), 2)\n",
    " \n",
    "    # display the images\n",
    "    cv2.imshow(\"Original\", orig)\n",
    "    cv2.imshow(\"After NMS\", image)\n",
    "    cv2.waitKey(0)"
   ]
  }
 ],
 "metadata": {
  "kernelspec": {
   "display_name": "Python 3",
   "language": "python",
   "name": "python3"
  },
  "language_info": {
   "codemirror_mode": {
    "name": "ipython",
    "version": 3
   },
   "file_extension": ".py",
   "mimetype": "text/x-python",
   "name": "python",
   "nbconvert_exporter": "python",
   "pygments_lexer": "ipython3",
   "version": "3.6.5"
  },
  "toc": {
   "base_numbering": 1,
   "nav_menu": {},
   "number_sections": false,
   "sideBar": true,
   "skip_h1_title": false,
   "title_cell": "Table of Contents",
   "title_sidebar": "Contents",
   "toc_cell": false,
   "toc_position": {},
   "toc_section_display": true,
   "toc_window_display": false
  },
  "varInspector": {
   "cols": {
    "lenName": 16,
    "lenType": 16,
    "lenVar": 40
   },
   "kernels_config": {
    "python": {
     "delete_cmd_postfix": "",
     "delete_cmd_prefix": "del ",
     "library": "var_list.py",
     "varRefreshCmd": "print(var_dic_list())"
    },
    "r": {
     "delete_cmd_postfix": ") ",
     "delete_cmd_prefix": "rm(",
     "library": "var_list.r",
     "varRefreshCmd": "cat(var_dic_list()) "
    }
   },
   "types_to_exclude": [
    "module",
    "function",
    "builtin_function_or_method",
    "instance",
    "_Feature"
   ],
   "window_display": false
  }
 },
 "nbformat": 4,
 "nbformat_minor": 2
}
