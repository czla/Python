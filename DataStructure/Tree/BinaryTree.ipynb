{
 "cells": [
  {
   "cell_type": "markdown",
   "metadata": {},
   "source": [
    "## 树\n",
    "### 特点\n",
    "* 每个节点有零个或多个子节点\n",
    "* 没有父节点的节点称为根节点\n",
    "* 每一个非根节点有且只有一个父节点\n",
    "* 除了根节点外，每个子节点可以分为多个不相交的子树\n",
    "\n",
    "### 术语\n",
    "* **节点的度**：一个节点含有的子树的个数称为该节点的度\n",
    "* **树的度**：一棵树中，最大的节点的度称为树的度\n",
    "* **树的度**：一棵树中，最大的节点的度称为树的度\n",
    "* **深度**：对于任意节点n,n的深度为从根到n的唯一路径长，根的深度为0\n",
    "* **高度**：对于任意节点n,n的高度为从n到一片树叶的最长路径长，所有树叶的高度为0\n",
    "\n",
    "### 二叉树\n",
    "* 每个节点最多含有两个子树的树称为二叉树\n",
    "* **完全二叉树**：二叉树，假设其深度为d（d>1）。除了第d层外，其它各层的节点数目均已达最大值，且第d层所有节点从左向右连续地紧密排列，\n",
    "这样的二叉树被称为完全二叉树\n",
    "![完全二叉树](https://mmbiz.qpic.cn/mmbiz_png/VVR9iar1ILuPRKWtI6qAvZicf5cTvibZbFf9GAaq8RVTGaWoH5ibT4qT8LyDYicsTsn8K0JicCcTXAFLusjsl7XetLMw/640?tp=webp&wxfrom=5&wx_lazy=1&wx_co=1)\n",
    "* **满二叉树**：所有叶节点都在最底层的完全二叉树\n",
    "![满二叉树](https://mmbiz.qpic.cn/mmbiz_png/VVR9iar1ILuPRKWtI6qAvZicf5cTvibZbFfuXssQxjr6XMwnLxUtRDhjvvHohjKA2ANRVYzT7AozKqMrW4I7DsAHQ/640?tp=webp&wxfrom=5&wx_lazy=1&wx_co=1)"
   ]
  },
  {
   "cell_type": "markdown",
   "metadata": {},
   "source": [
    "### 深度优先遍历\n",
    "\n",
    "类型 | 遍历顺序\n",
    ":-: | :-\n",
    "前序遍历 | 根结点->左结点->右结点\n",
    "中序遍历 | 左结点->根结点->右结点\n",
    "后序遍历 | 左结点->右结点->根结点"
   ]
  },
  {
   "cell_type": "code",
   "execution_count": 2,
   "metadata": {},
   "outputs": [],
   "source": [
    "# 定义 TreeNode\n",
    "class TreeNode:\n",
    "    def __init__(self, value=None, left=None, right=None):\n",
    "        self.value = value\n",
    "        self.left = left    # 左子树\n",
    "        self.right = right"
   ]
  },
  {
   "cell_type": "code",
   "execution_count": 3,
   "metadata": {},
   "outputs": [],
   "source": [
    "# 实例化一个TreeNode\n",
    "my_node = TreeNode('A', \n",
    "                   TreeNode('B',\n",
    "                           TreeNode('D'),\n",
    "                           TreeNode('E')\n",
    "                           ),\n",
    "                  TreeNode('C',\n",
    "                          TreeNode('F'),\n",
    "                          TreeNode('G')\n",
    "                          )\n",
    "                  )"
   ]
  },
  {
   "cell_type": "code",
   "execution_count": 5,
   "metadata": {},
   "outputs": [
    {
     "name": "stdout",
     "output_type": "stream",
     "text": [
      "A\n",
      "B\n",
      "D\n",
      "E\n",
      "C\n",
      "F\n",
      "G\n"
     ]
    }
   ],
   "source": [
    "# 前序遍历\n",
    "def preTravers(root):\n",
    "    if root is None:\n",
    "        return\n",
    "    print(root.value)\n",
    "    preTravers(root.left)\n",
    "    preTravers(root.right)\n",
    "    \n",
    "preTravers(my_node)"
   ]
  },
  {
   "cell_type": "code",
   "execution_count": 6,
   "metadata": {},
   "outputs": [
    {
     "name": "stdout",
     "output_type": "stream",
     "text": [
      "D\n",
      "B\n",
      "E\n",
      "A\n",
      "F\n",
      "C\n",
      "G\n"
     ]
    }
   ],
   "source": [
    "# 中序遍历\n",
    "def midTravers(root):\n",
    "    if root is None:\n",
    "        return\n",
    "    midTravers(root.left)\n",
    "    print(root.value)\n",
    "    midTravers(root.right)\n",
    "    \n",
    "midTravers(my_node)"
   ]
  },
  {
   "cell_type": "code",
   "execution_count": 7,
   "metadata": {},
   "outputs": [
    {
     "name": "stdout",
     "output_type": "stream",
     "text": [
      "D\n",
      "E\n",
      "B\n",
      "F\n",
      "G\n",
      "C\n",
      "A\n"
     ]
    }
   ],
   "source": [
    "# 后序遍历\n",
    "def afterTravers(root):\n",
    "    if root is None:\n",
    "        return\n",
    "    afterTravers(root.left)\n",
    "    afterTravers(root.right)\n",
    "    print(root.value)\n",
    "    \n",
    "afterTravers(my_node)"
   ]
  },
  {
   "cell_type": "markdown",
   "metadata": {},
   "source": [
    "### 广度优先遍历\n",
    "* 按一层一层地遍历"
   ]
  },
  {
   "cell_type": "code",
   "execution_count": 11,
   "metadata": {},
   "outputs": [
    {
     "name": "stdout",
     "output_type": "stream",
     "text": [
      "A\n",
      "B\n",
      "C\n",
      "D\n",
      "E\n",
      "F\n",
      "G\n"
     ]
    }
   ],
   "source": [
    "import pdb\n",
    "def levelTravers(root):\n",
    "    # 若根结点为空，返回空列表\n",
    "    if root is None:\n",
    "        return\n",
    "    # 模拟一个队列储存结点\n",
    "    q = []\n",
    "    # pdb.set_trace()\n",
    "    q.append(root)    # 首先将根结点入队\n",
    "    # 列表为空时，循环停止\n",
    "    while len(q) != 0:\n",
    "        length = len(q)\n",
    "        for i in range(length):\n",
    "            r = q.pop(0)    # 将同层结点依次出队\n",
    "            if r.left is not None:\n",
    "                q.append(r.left)    # 若左子树非空，则入队\n",
    "            if r.right is not None:\n",
    "                q.append(r.right)\n",
    "            print(r.value)\n",
    "            \n",
    "levelTravers(my_node)"
   ]
  }
 ],
 "metadata": {
  "kernelspec": {
   "display_name": "Python 3",
   "language": "python",
   "name": "python3"
  },
  "language_info": {
   "codemirror_mode": {
    "name": "ipython",
    "version": 3
   },
   "file_extension": ".py",
   "mimetype": "text/x-python",
   "name": "python",
   "nbconvert_exporter": "python",
   "pygments_lexer": "ipython3",
   "version": "3.6.5"
  },
  "toc": {
   "base_numbering": 1,
   "nav_menu": {},
   "number_sections": false,
   "sideBar": true,
   "skip_h1_title": false,
   "title_cell": "Table of Contents",
   "title_sidebar": "Contents",
   "toc_cell": false,
   "toc_position": {},
   "toc_section_display": true,
   "toc_window_display": false
  },
  "varInspector": {
   "cols": {
    "lenName": 16,
    "lenType": 16,
    "lenVar": 40
   },
   "kernels_config": {
    "python": {
     "delete_cmd_postfix": "",
     "delete_cmd_prefix": "del ",
     "library": "var_list.py",
     "varRefreshCmd": "print(var_dic_list())"
    },
    "r": {
     "delete_cmd_postfix": ") ",
     "delete_cmd_prefix": "rm(",
     "library": "var_list.r",
     "varRefreshCmd": "cat(var_dic_list()) "
    }
   },
   "types_to_exclude": [
    "module",
    "function",
    "builtin_function_or_method",
    "instance",
    "_Feature"
   ],
   "window_display": false
  }
 },
 "nbformat": 4,
 "nbformat_minor": 2
}
